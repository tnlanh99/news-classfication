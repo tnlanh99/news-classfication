{
 "cells": [
  {
   "cell_type": "markdown",
   "metadata": {},
   "source": [
    "# News Classification"
   ]
  },
  {
   "cell_type": "code",
   "execution_count": 1,
   "metadata": {
    "tags": []
   },
   "outputs": [],
   "source": [
    "import pprint\n",
    "import torch\n",
    "import torch.utils.data as data\n",
    "from transformers import AutoTokenizer, AutoModelForSequenceClassification\n",
    "from tqdm.auto import tqdm\n",
    "from sklearn.metrics import classification_report\n",
    "from sklearn.model_selection import train_test_split\n",
    "\n",
    "from data import VNTCDataset, label2id, id2label"
   ]
  },
  {
   "cell_type": "markdown",
   "metadata": {},
   "source": [
    "## Load data"
   ]
  },
  {
   "cell_type": "code",
   "execution_count": 2,
   "metadata": {
    "tags": []
   },
   "outputs": [
    {
     "data": {
      "text/plain": [
       "{'Van hoa': 0,\n",
       " 'The gioi': 1,\n",
       " 'Khoa hoc': 2,\n",
       " 'Suc khoe': 3,\n",
       " 'Chinh tri Xa hoi': 4,\n",
       " 'Vi tinh': 5,\n",
       " 'Kinh doanh': 6,\n",
       " 'The thao': 7,\n",
       " 'Phap luat': 8,\n",
       " 'Doi song': 9}"
      ]
     },
     "execution_count": 2,
     "metadata": {},
     "output_type": "execute_result"
    }
   ],
   "source": [
    "label2id"
   ]
  },
  {
   "cell_type": "code",
   "execution_count": 3,
   "metadata": {
    "tags": []
   },
   "outputs": [],
   "source": [
    "train_data = VNTCDataset(train=True)\n",
    "test_data = VNTCDataset(train=False)"
   ]
  },
  {
   "cell_type": "code",
   "execution_count": 4,
   "metadata": {
    "tags": []
   },
   "outputs": [],
   "source": [
    "train_data, dev_data = train_test_split(train_data, test_size = 0.1)"
   ]
  },
  {
   "cell_type": "code",
   "execution_count": 5,
   "metadata": {
    "tags": []
   },
   "outputs": [
    {
     "name": "stdout",
     "output_type": "stream",
     "text": [
      "Train data data: 30383\n",
      "Dev data data: 3376\n",
      "Test data data: 50373\n"
     ]
    }
   ],
   "source": [
    "print(f\"Train data data: {len(train_data)}\")\n",
    "print(f\"Dev data data: {len(dev_data)}\")\n",
    "print(f\"Test data data: {len(test_data)}\")"
   ]
  },
  {
   "cell_type": "markdown",
   "metadata": {},
   "source": [
    "## Load tokenizer"
   ]
  },
  {
   "cell_type": "code",
   "execution_count": 6,
   "metadata": {
    "tags": []
   },
   "outputs": [
    {
     "name": "stderr",
     "output_type": "stream",
     "text": [
      "Special tokens have been added in the vocabulary, make sure the associated word embeddings are fine-tuned or trained.\n"
     ]
    }
   ],
   "source": [
    "tokenizer = AutoTokenizer.from_pretrained(\"vinai/phobert-base\")"
   ]
  },
  {
   "cell_type": "code",
   "execution_count": 7,
   "metadata": {
    "tags": []
   },
   "outputs": [
    {
     "data": {
      "text/plain": [
       "PhobertTokenizer(name_or_path='vinai/phobert-base', vocab_size=64000, model_max_length=256, is_fast=False, padding_side='right', truncation_side='right', special_tokens={'bos_token': '<s>', 'eos_token': '</s>', 'unk_token': '<unk>', 'sep_token': '</s>', 'pad_token': '<pad>', 'cls_token': '<s>', 'mask_token': '<mask>'}, clean_up_tokenization_spaces=True)"
      ]
     },
     "execution_count": 7,
     "metadata": {},
     "output_type": "execute_result"
    }
   ],
   "source": [
    "tokenizer"
   ]
  },
  {
   "cell_type": "code",
   "execution_count": 8,
   "metadata": {
    "tags": []
   },
   "outputs": [
    {
     "name": "stdout",
     "output_type": "stream",
     "text": [
      "{'attention_mask': [1, 1, 1, 1, 1, 1, 1, 1, 1, 1, 1, 1, 1],\n",
      " 'input_ids': [0,\n",
      "               218,\n",
      "               8,\n",
      "               418,\n",
      "               1430,\n",
      "               212,\n",
      "               2919,\n",
      "               222,\n",
      "               22313,\n",
      "               2054,\n",
      "               14385,\n",
      "               2151,\n",
      "               2],\n",
      " 'token_type_ids': [0, 0, 0, 0, 0, 0, 0, 0, 0, 0, 0, 0, 0]}\n"
     ]
    }
   ],
   "source": [
    "sample_sentence = \"Tôi là sinh viên trường đại học bách khoa hà nội\"\n",
    "sample_token = tokenizer(sample_sentence)\n",
    "pprint.pprint(sample_token)"
   ]
  },
  {
   "cell_type": "code",
   "execution_count": 9,
   "metadata": {
    "tags": []
   },
   "outputs": [
    {
     "data": {
      "text/plain": [
       "'<s> Tôi là sinh viên trường đại học bách khoa hà nội </s>'"
      ]
     },
     "execution_count": 9,
     "metadata": {},
     "output_type": "execute_result"
    }
   ],
   "source": [
    "tokenizer.decode(sample_token[\"input_ids\"])"
   ]
  },
  {
   "cell_type": "markdown",
   "metadata": {},
   "source": [
    "## Prepare DataLoader"
   ]
  },
  {
   "cell_type": "code",
   "execution_count": 10,
   "metadata": {
    "tags": []
   },
   "outputs": [],
   "source": [
    "def collate_fn(data):\n",
    "    texts = []\n",
    "    labels = []\n",
    "    for content, label in data:\n",
    "        texts.append(content)\n",
    "        labels.append(label)\n",
    "    tokens = tokenizer(\n",
    "        texts, \n",
    "        padding=True, \n",
    "        truncation=True, \n",
    "        return_tensors=\"pt\"\n",
    "    )\n",
    "    labels = torch.LongTensor(labels)\n",
    "    return tokens, labels"
   ]
  },
  {
   "cell_type": "code",
   "execution_count": 11,
   "metadata": {
    "tags": []
   },
   "outputs": [],
   "source": [
    "batch_size = 32"
   ]
  },
  {
   "cell_type": "code",
   "execution_count": 12,
   "metadata": {
    "tags": []
   },
   "outputs": [],
   "source": [
    "train_dataloader = data.DataLoader(\n",
    "    train_data, \n",
    "    batch_size=batch_size, \n",
    "    shuffle=True, \n",
    "    collate_fn=collate_fn\n",
    ")"
   ]
  },
  {
   "cell_type": "code",
   "execution_count": 13,
   "metadata": {
    "tags": []
   },
   "outputs": [],
   "source": [
    "dev_dataloader = data.DataLoader(\n",
    "    dev_data, \n",
    "    batch_size=batch_size, \n",
    "    collate_fn=collate_fn\n",
    ")"
   ]
  },
  {
   "cell_type": "code",
   "execution_count": 14,
   "metadata": {
    "tags": []
   },
   "outputs": [],
   "source": [
    "test_dataloader = data.DataLoader(\n",
    "    test_data,\n",
    "    batch_size=batch_size,\n",
    "    collate_fn=collate_fn\n",
    ")"
   ]
  },
  {
   "cell_type": "code",
   "execution_count": 15,
   "metadata": {
    "tags": []
   },
   "outputs": [
    {
     "name": "stdout",
     "output_type": "stream",
     "text": [
      "Shape of input_ids: torch.Size([32, 256])\n",
      "Shape of labels: torch.Size([32])\n"
     ]
    }
   ],
   "source": [
    "for inputs, labels in train_dataloader:\n",
    "    print(f\"Shape of input_ids: {inputs.input_ids.shape}\")\n",
    "    print(f\"Shape of labels: {labels.shape}\")\n",
    "    break"
   ]
  },
  {
   "cell_type": "markdown",
   "metadata": {},
   "source": [
    "## Create model"
   ]
  },
  {
   "cell_type": "code",
   "execution_count": 16,
   "metadata": {
    "tags": []
   },
   "outputs": [
    {
     "name": "stderr",
     "output_type": "stream",
     "text": [
      "Some weights of the model checkpoint at vinai/phobert-base were not used when initializing RobertaForSequenceClassification: ['lm_head.dense.bias', 'lm_head.bias', 'roberta.pooler.dense.weight', 'lm_head.dense.weight', 'lm_head.decoder.bias', 'lm_head.layer_norm.weight', 'lm_head.layer_norm.bias', 'roberta.pooler.dense.bias', 'lm_head.decoder.weight']\n",
      "- This IS expected if you are initializing RobertaForSequenceClassification from the checkpoint of a model trained on another task or with another architecture (e.g. initializing a BertForSequenceClassification model from a BertForPreTraining model).\n",
      "- This IS NOT expected if you are initializing RobertaForSequenceClassification from the checkpoint of a model that you expect to be exactly identical (initializing a BertForSequenceClassification model from a BertForSequenceClassification model).\n",
      "Some weights of RobertaForSequenceClassification were not initialized from the model checkpoint at vinai/phobert-base and are newly initialized: ['classifier.out_proj.bias', 'classifier.dense.weight', 'classifier.out_proj.weight', 'classifier.dense.bias']\n",
      "You should probably TRAIN this model on a down-stream task to be able to use it for predictions and inference.\n"
     ]
    }
   ],
   "source": [
    "model = AutoModelForSequenceClassification.from_pretrained(\n",
    "    \"vinai/phobert-base\", \n",
    "    num_labels=len(label2id),\n",
    "    id2label=id2label,\n",
    "    label2id=label2id\n",
    ")"
   ]
  },
  {
   "cell_type": "code",
   "execution_count": 17,
   "metadata": {
    "tags": []
   },
   "outputs": [
    {
     "data": {
      "text/plain": [
       "RobertaForSequenceClassification(\n",
       "  (roberta): RobertaModel(\n",
       "    (embeddings): RobertaEmbeddings(\n",
       "      (word_embeddings): Embedding(64001, 768, padding_idx=1)\n",
       "      (position_embeddings): Embedding(258, 768, padding_idx=1)\n",
       "      (token_type_embeddings): Embedding(1, 768)\n",
       "      (LayerNorm): LayerNorm((768,), eps=1e-05, elementwise_affine=True)\n",
       "      (dropout): Dropout(p=0.1, inplace=False)\n",
       "    )\n",
       "    (encoder): RobertaEncoder(\n",
       "      (layer): ModuleList(\n",
       "        (0-11): 12 x RobertaLayer(\n",
       "          (attention): RobertaAttention(\n",
       "            (self): RobertaSelfAttention(\n",
       "              (query): Linear(in_features=768, out_features=768, bias=True)\n",
       "              (key): Linear(in_features=768, out_features=768, bias=True)\n",
       "              (value): Linear(in_features=768, out_features=768, bias=True)\n",
       "              (dropout): Dropout(p=0.1, inplace=False)\n",
       "            )\n",
       "            (output): RobertaSelfOutput(\n",
       "              (dense): Linear(in_features=768, out_features=768, bias=True)\n",
       "              (LayerNorm): LayerNorm((768,), eps=1e-05, elementwise_affine=True)\n",
       "              (dropout): Dropout(p=0.1, inplace=False)\n",
       "            )\n",
       "          )\n",
       "          (intermediate): RobertaIntermediate(\n",
       "            (dense): Linear(in_features=768, out_features=3072, bias=True)\n",
       "            (intermediate_act_fn): GELUActivation()\n",
       "          )\n",
       "          (output): RobertaOutput(\n",
       "            (dense): Linear(in_features=3072, out_features=768, bias=True)\n",
       "            (LayerNorm): LayerNorm((768,), eps=1e-05, elementwise_affine=True)\n",
       "            (dropout): Dropout(p=0.1, inplace=False)\n",
       "          )\n",
       "        )\n",
       "      )\n",
       "    )\n",
       "  )\n",
       "  (classifier): RobertaClassificationHead(\n",
       "    (dense): Linear(in_features=768, out_features=768, bias=True)\n",
       "    (dropout): Dropout(p=0.1, inplace=False)\n",
       "    (out_proj): Linear(in_features=768, out_features=10, bias=True)\n",
       "  )\n",
       ")"
      ]
     },
     "execution_count": 17,
     "metadata": {},
     "output_type": "execute_result"
    }
   ],
   "source": [
    "model"
   ]
  },
  {
   "cell_type": "code",
   "execution_count": 18,
   "metadata": {
    "tags": []
   },
   "outputs": [
    {
     "data": {
      "text/plain": [
       "RobertaConfig {\n",
       "  \"_name_or_path\": \"vinai/phobert-base\",\n",
       "  \"architectures\": [\n",
       "    \"RobertaForMaskedLM\"\n",
       "  ],\n",
       "  \"attention_probs_dropout_prob\": 0.1,\n",
       "  \"bos_token_id\": 0,\n",
       "  \"classifier_dropout\": null,\n",
       "  \"eos_token_id\": 2,\n",
       "  \"gradient_checkpointing\": false,\n",
       "  \"hidden_act\": \"gelu\",\n",
       "  \"hidden_dropout_prob\": 0.1,\n",
       "  \"hidden_size\": 768,\n",
       "  \"id2label\": {\n",
       "    \"0\": \"Van hoa\",\n",
       "    \"1\": \"The gioi\",\n",
       "    \"2\": \"Khoa hoc\",\n",
       "    \"3\": \"Suc khoe\",\n",
       "    \"4\": \"Chinh tri Xa hoi\",\n",
       "    \"5\": \"Vi tinh\",\n",
       "    \"6\": \"Kinh doanh\",\n",
       "    \"7\": \"The thao\",\n",
       "    \"8\": \"Phap luat\",\n",
       "    \"9\": \"Doi song\"\n",
       "  },\n",
       "  \"initializer_range\": 0.02,\n",
       "  \"intermediate_size\": 3072,\n",
       "  \"label2id\": {\n",
       "    \"Chinh tri Xa hoi\": 4,\n",
       "    \"Doi song\": 9,\n",
       "    \"Khoa hoc\": 2,\n",
       "    \"Kinh doanh\": 6,\n",
       "    \"Phap luat\": 8,\n",
       "    \"Suc khoe\": 3,\n",
       "    \"The gioi\": 1,\n",
       "    \"The thao\": 7,\n",
       "    \"Van hoa\": 0,\n",
       "    \"Vi tinh\": 5\n",
       "  },\n",
       "  \"layer_norm_eps\": 1e-05,\n",
       "  \"max_position_embeddings\": 258,\n",
       "  \"model_type\": \"roberta\",\n",
       "  \"num_attention_heads\": 12,\n",
       "  \"num_hidden_layers\": 12,\n",
       "  \"pad_token_id\": 1,\n",
       "  \"position_embedding_type\": \"absolute\",\n",
       "  \"tokenizer_class\": \"PhobertTokenizer\",\n",
       "  \"transformers_version\": \"4.29.2\",\n",
       "  \"type_vocab_size\": 1,\n",
       "  \"use_cache\": true,\n",
       "  \"vocab_size\": 64001\n",
       "}"
      ]
     },
     "execution_count": 18,
     "metadata": {},
     "output_type": "execute_result"
    }
   ],
   "source": [
    "model.config"
   ]
  },
  {
   "cell_type": "code",
   "execution_count": 19,
   "metadata": {
    "tags": []
   },
   "outputs": [],
   "source": [
    "for param in model.roberta.parameters():\n",
    "    param.requires_grad = False"
   ]
  },
  {
   "cell_type": "code",
   "execution_count": 20,
   "metadata": {
    "tags": []
   },
   "outputs": [
    {
     "name": "stdout",
     "output_type": "stream",
     "text": [
      "Trainable parameters: 598282\n",
      "Fixed parameters: 134407680\n",
      "Total parameters: 135005962\n"
     ]
    }
   ],
   "source": [
    "trainable = 0\n",
    "fixed = 0\n",
    "for p in model.parameters():\n",
    "    if p.requires_grad:\n",
    "        trainable += p.numel()\n",
    "    else:\n",
    "        fixed += p.numel()\n",
    "\n",
    "print(f\"Trainable parameters: {trainable}\")\n",
    "print(f\"Fixed parameters: {fixed}\")\n",
    "print(f\"Total parameters: {trainable + fixed}\")"
   ]
  },
  {
   "cell_type": "markdown",
   "metadata": {},
   "source": [
    "## Train model"
   ]
  },
  {
   "cell_type": "code",
   "execution_count": 21,
   "metadata": {
    "tags": []
   },
   "outputs": [
    {
     "name": "stdout",
     "output_type": "stream",
     "text": [
      "Using cuda device\n"
     ]
    }
   ],
   "source": [
    "device = \"cuda\" if torch.cuda.is_available() else \"cpu\"\n",
    "print(f\"Using {device} device\")"
   ]
  },
  {
   "cell_type": "code",
   "execution_count": 22,
   "metadata": {
    "tags": []
   },
   "outputs": [],
   "source": [
    "model = model.to(device)"
   ]
  },
  {
   "cell_type": "code",
   "execution_count": 23,
   "metadata": {
    "tags": []
   },
   "outputs": [],
   "source": [
    "learning_rate = 1e-4\n",
    "epochs = 3"
   ]
  },
  {
   "cell_type": "code",
   "execution_count": 24,
   "metadata": {
    "tags": []
   },
   "outputs": [],
   "source": [
    "optimizer = torch.optim.Adam(model.parameters(), lr=learning_rate)"
   ]
  },
  {
   "cell_type": "code",
   "execution_count": 25,
   "metadata": {
    "tags": []
   },
   "outputs": [],
   "source": [
    "def train(model, dataloader):\n",
    "    num_batches = len(dataloader)\n",
    "    model.train()\n",
    "\n",
    "    for batch, (inputs, labels) in tqdm(enumerate(train_dataloader), total=num_batches):\n",
    "        inputs = { k: v.to(device) for k, v in inputs.items() }\n",
    "        labels = labels.to(device)\n",
    "\n",
    "        # Compute prediction error\n",
    "        outputs = model(**inputs, labels=labels)\n",
    "        loss = outputs.loss\n",
    "\n",
    "        # Backpropagation\n",
    "        optimizer.zero_grad()\n",
    "        loss.backward()\n",
    "        optimizer.step()\n",
    "\n",
    "        if batch % 100 == 0:\n",
    "            loss, current = loss.item(), batch + 1\n",
    "            print(f\"loss: {loss:>7f}  [{current:>4d}/{num_batches:>4d}]\")"
   ]
  },
  {
   "cell_type": "code",
   "execution_count": 26,
   "metadata": {
    "tags": []
   },
   "outputs": [],
   "source": [
    "def test(model, dataloader):\n",
    "    size = len(dataloader.dataset)\n",
    "    num_batches = len(dataloader)\n",
    "    model.eval()\n",
    "    test_loss, correct = 0, 0\n",
    "    all_preds = []\n",
    "    all_labels = []\n",
    "\n",
    "    with torch.no_grad():\n",
    "        for inputs, labels in tqdm(dataloader, total=num_batches):\n",
    "            inputs = { k: v.to(device) for k, v in inputs.items() }\n",
    "            labels = labels.to(device)\n",
    "\n",
    "            outputs = model(**inputs, labels=labels)\n",
    "            loss = outputs.loss\n",
    "            preds = outputs.logits.argmax(-1)\n",
    "\n",
    "            all_preds.extend(preds.cpu().numpy())\n",
    "            all_labels.extend(labels.cpu().numpy())\n",
    "            test_loss += loss.item()\n",
    "            correct += (preds == labels).sum().item()\n",
    "\n",
    "    report = classification_report(all_labels, all_preds, target_names=label2id.keys(), zero_division=0)\n",
    "    test_loss /= num_batches\n",
    "    correct /= size\n",
    "    print(report)\n",
    "    print(f\"Test Error: \\n Accuracy: {(100 * correct):>0.1f}%, Avg loss: {test_loss:>8f} \\n\")"
   ]
  },
  {
   "cell_type": "code",
   "execution_count": 27,
   "metadata": {
    "tags": []
   },
   "outputs": [
    {
     "name": "stdout",
     "output_type": "stream",
     "text": [
      "Epoch 1\n",
      "-------------------------------\n"
     ]
    },
    {
     "data": {
      "application/vnd.jupyter.widget-view+json": {
       "model_id": "bd3316888cfc419cb1a9d41b21d23da2",
       "version_major": 2,
       "version_minor": 0
      },
      "text/plain": [
       "  0%|          | 0/950 [00:00<?, ?it/s]"
      ]
     },
     "metadata": {},
     "output_type": "display_data"
    },
    {
     "name": "stdout",
     "output_type": "stream",
     "text": [
      "loss: 2.312908  [   1/ 950]\n",
      "loss: 1.683005  [ 101/ 950]\n",
      "loss: 0.897754  [ 201/ 950]\n",
      "loss: 0.738735  [ 301/ 950]\n",
      "loss: 0.543578  [ 401/ 950]\n",
      "loss: 0.607079  [ 501/ 950]\n",
      "loss: 0.544631  [ 601/ 950]\n",
      "loss: 0.501711  [ 701/ 950]\n",
      "loss: 0.817580  [ 801/ 950]\n",
      "loss: 0.396132  [ 901/ 950]\n"
     ]
    },
    {
     "data": {
      "application/vnd.jupyter.widget-view+json": {
       "model_id": "a8ffa20450df4bc187748e8731db6154",
       "version_major": 2,
       "version_minor": 0
      },
      "text/plain": [
       "  0%|          | 0/106 [00:00<?, ?it/s]"
      ]
     },
     "metadata": {},
     "output_type": "display_data"
    },
    {
     "name": "stdout",
     "output_type": "stream",
     "text": [
      "                  precision    recall  f1-score   support\n",
      "\n",
      "         Van hoa       0.89      0.91      0.90       326\n",
      "        The gioi       0.87      0.88      0.87       267\n",
      "        Khoa hoc       0.81      0.76      0.78       182\n",
      "        Suc khoe       0.88      0.91      0.90       345\n",
      "Chinh tri Xa hoi       0.75      0.79      0.77       542\n",
      "         Vi tinh       0.96      0.80      0.88       249\n",
      "      Kinh doanh       0.81      0.79      0.80       224\n",
      "        The thao       0.98      0.97      0.98       520\n",
      "       Phap luat       0.88      0.89      0.88       409\n",
      "        Doi song       0.81      0.84      0.83       312\n",
      "\n",
      "        accuracy                           0.87      3376\n",
      "       macro avg       0.87      0.85      0.86      3376\n",
      "    weighted avg       0.87      0.87      0.87      3376\n",
      "\n",
      "Test Error: \n",
      " Accuracy: 86.5%, Avg loss: 0.405479 \n",
      "\n",
      "Epoch 2\n",
      "-------------------------------\n"
     ]
    },
    {
     "data": {
      "application/vnd.jupyter.widget-view+json": {
       "model_id": "1b4d8780e0ca435ebc116c05d2123877",
       "version_major": 2,
       "version_minor": 0
      },
      "text/plain": [
       "  0%|          | 0/950 [00:00<?, ?it/s]"
      ]
     },
     "metadata": {},
     "output_type": "display_data"
    },
    {
     "name": "stdout",
     "output_type": "stream",
     "text": [
      "loss: 0.327408  [   1/ 950]\n",
      "loss: 0.552953  [ 101/ 950]\n",
      "loss: 0.593122  [ 201/ 950]\n",
      "loss: 0.443892  [ 301/ 950]\n",
      "loss: 0.489611  [ 401/ 950]\n",
      "loss: 0.405083  [ 501/ 950]\n",
      "loss: 0.604255  [ 601/ 950]\n",
      "loss: 0.225154  [ 701/ 950]\n",
      "loss: 0.330164  [ 801/ 950]\n",
      "loss: 0.360475  [ 901/ 950]\n"
     ]
    },
    {
     "data": {
      "application/vnd.jupyter.widget-view+json": {
       "model_id": "efe7f926fe404a3aa48198f4e56cb2db",
       "version_major": 2,
       "version_minor": 0
      },
      "text/plain": [
       "  0%|          | 0/106 [00:00<?, ?it/s]"
      ]
     },
     "metadata": {},
     "output_type": "display_data"
    },
    {
     "name": "stdout",
     "output_type": "stream",
     "text": [
      "                  precision    recall  f1-score   support\n",
      "\n",
      "         Van hoa       0.93      0.91      0.92       326\n",
      "        The gioi       0.95      0.83      0.89       267\n",
      "        Khoa hoc       0.72      0.84      0.77       182\n",
      "        Suc khoe       0.89      0.91      0.90       345\n",
      "Chinh tri Xa hoi       0.77      0.80      0.79       542\n",
      "         Vi tinh       0.92      0.89      0.90       249\n",
      "      Kinh doanh       0.81      0.82      0.82       224\n",
      "        The thao       0.98      0.97      0.98       520\n",
      "       Phap luat       0.88      0.89      0.89       409\n",
      "        Doi song       0.85      0.84      0.84       312\n",
      "\n",
      "        accuracy                           0.87      3376\n",
      "       macro avg       0.87      0.87      0.87      3376\n",
      "    weighted avg       0.88      0.87      0.88      3376\n",
      "\n",
      "Test Error: \n",
      " Accuracy: 87.5%, Avg loss: 0.357670 \n",
      "\n",
      "Epoch 3\n",
      "-------------------------------\n"
     ]
    },
    {
     "data": {
      "application/vnd.jupyter.widget-view+json": {
       "model_id": "33399e8ec41a436d9abf1f3b7fea4bfc",
       "version_major": 2,
       "version_minor": 0
      },
      "text/plain": [
       "  0%|          | 0/950 [00:00<?, ?it/s]"
      ]
     },
     "metadata": {},
     "output_type": "display_data"
    },
    {
     "name": "stdout",
     "output_type": "stream",
     "text": [
      "loss: 0.638484  [   1/ 950]\n",
      "loss: 0.494748  [ 101/ 950]\n",
      "loss: 0.527917  [ 201/ 950]\n",
      "loss: 0.571325  [ 301/ 950]\n",
      "loss: 0.471474  [ 401/ 950]\n",
      "loss: 0.388036  [ 501/ 950]\n",
      "loss: 0.394080  [ 601/ 950]\n",
      "loss: 0.278738  [ 701/ 950]\n",
      "loss: 0.439574  [ 801/ 950]\n",
      "loss: 0.238287  [ 901/ 950]\n"
     ]
    },
    {
     "data": {
      "application/vnd.jupyter.widget-view+json": {
       "model_id": "de378dead013418396e650a85173cb73",
       "version_major": 2,
       "version_minor": 0
      },
      "text/plain": [
       "  0%|          | 0/106 [00:00<?, ?it/s]"
      ]
     },
     "metadata": {},
     "output_type": "display_data"
    },
    {
     "name": "stdout",
     "output_type": "stream",
     "text": [
      "                  precision    recall  f1-score   support\n",
      "\n",
      "         Van hoa       0.91      0.94      0.92       326\n",
      "        The gioi       0.92      0.88      0.90       267\n",
      "        Khoa hoc       0.74      0.86      0.80       182\n",
      "        Suc khoe       0.89      0.92      0.90       345\n",
      "Chinh tri Xa hoi       0.82      0.78      0.80       542\n",
      "         Vi tinh       0.92      0.90      0.91       249\n",
      "      Kinh doanh       0.83      0.83      0.83       224\n",
      "        The thao       0.98      0.97      0.98       520\n",
      "       Phap luat       0.88      0.91      0.90       409\n",
      "        Doi song       0.87      0.83      0.85       312\n",
      "\n",
      "        accuracy                           0.88      3376\n",
      "       macro avg       0.88      0.88      0.88      3376\n",
      "    weighted avg       0.88      0.88      0.88      3376\n",
      "\n",
      "Test Error: \n",
      " Accuracy: 88.4%, Avg loss: 0.344145 \n",
      "\n",
      "Done!\n"
     ]
    }
   ],
   "source": [
    "for epoch in range(epochs):\n",
    "    print(f\"Epoch {epoch + 1}\\n-------------------------------\")\n",
    "    train(model, train_dataloader)\n",
    "    test(model, dev_dataloader)\n",
    "print(\"Done!\")"
   ]
  },
  {
   "cell_type": "markdown",
   "metadata": {},
   "source": [
    "## Test model"
   ]
  },
  {
   "cell_type": "code",
   "execution_count": 29,
   "metadata": {},
   "outputs": [
    {
     "data": {
      "application/vnd.jupyter.widget-view+json": {
       "model_id": "adcc0c6f520d4260b8c1491d83711d36",
       "version_major": 2,
       "version_minor": 0
      },
      "text/plain": [
       "  0%|          | 0/1575 [00:00<?, ?it/s]"
      ]
     },
     "metadata": {},
     "output_type": "display_data"
    },
    {
     "name": "stdout",
     "output_type": "stream",
     "text": [
      "                  precision    recall  f1-score   support\n",
      "\n",
      "         Van hoa       0.89      0.93      0.91      6250\n",
      "        The gioi       0.91      0.92      0.92      6716\n",
      "        Khoa hoc       0.62      0.81      0.70      2096\n",
      "        Suc khoe       0.90      0.91      0.90      5417\n",
      "Chinh tri Xa hoi       0.84      0.78      0.81      7567\n",
      "         Vi tinh       0.91      0.90      0.91      4560\n",
      "      Kinh doanh       0.86      0.84      0.85      5276\n",
      "        The thao       0.98      0.97      0.98      6667\n",
      "       Phap luat       0.85      0.90      0.87      3788\n",
      "        Doi song       0.69      0.48      0.57      2036\n",
      "\n",
      "        accuracy                           0.87     50373\n",
      "       macro avg       0.84      0.85      0.84     50373\n",
      "    weighted avg       0.87      0.87      0.87     50373\n",
      "\n",
      "Test Error: \n",
      " Accuracy: 87.3%, Avg loss: 0.373198 \n",
      "\n"
     ]
    }
   ],
   "source": [
    "test(model, test_dataloader)"
   ]
  },
  {
   "cell_type": "markdown",
   "metadata": {},
   "source": [
    "## Save model"
   ]
  },
  {
   "cell_type": "code",
   "execution_count": 30,
   "metadata": {
    "tags": []
   },
   "outputs": [
    {
     "data": {
      "text/plain": [
       "('./save/phobert_news_classification/tokenizer_config.json',\n",
       " './save/phobert_news_classification/special_tokens_map.json',\n",
       " './save/phobert_news_classification/vocab.txt',\n",
       " './save/phobert_news_classification/bpe.codes',\n",
       " './save/phobert_news_classification/added_tokens.json')"
      ]
     },
     "execution_count": 30,
     "metadata": {},
     "output_type": "execute_result"
    }
   ],
   "source": [
    "save_dir = \"./save/phobert_news_classification\"\n",
    "model.save_pretrained(save_dir)\n",
    "tokenizer.save_pretrained(save_dir)"
   ]
  },
  {
   "cell_type": "code",
   "execution_count": null,
   "metadata": {},
   "outputs": [],
   "source": []
  }
 ],
 "metadata": {
  "kernelspec": {
   "display_name": "default:Python",
   "language": "python",
   "name": "conda-env-default-py"
  },
  "language_info": {
   "codemirror_mode": {
    "name": "ipython",
    "version": 3
   },
   "file_extension": ".py",
   "mimetype": "text/x-python",
   "name": "python",
   "nbconvert_exporter": "python",
   "pygments_lexer": "ipython3",
   "version": "3.9.16"
  }
 },
 "nbformat": 4,
 "nbformat_minor": 4
}
